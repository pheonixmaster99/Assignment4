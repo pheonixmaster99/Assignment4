{
 "cells": [
  {
   "cell_type": "markdown",
   "id": "fa82a637",
   "metadata": {},
   "source": [
    "# Problem 1"
   ]
  },
  {
   "cell_type": "code",
   "execution_count": 13,
   "id": "e80f39e0",
   "metadata": {},
   "outputs": [
    {
     "name": "stdout",
     "output_type": "stream",
     "text": [
      "(107, 12)\n",
      "Index(['Diff. Lattice Constants', 'Diff. Melting Point', 'Mixing Enthalpy',\n",
      "       'Lattice Constants', 'Lambda', 'Diff. in atomic radii', 'Omega',\n",
      "       'Melting Temp.', 'Diff. Electronegativity', 'Mixing Entropy',\n",
      "       'Valence electron', 'Young's Mod (GPa)'],\n",
      "      dtype='object')\n",
      "(107, 11)\n"
     ]
    }
   ],
   "source": [
    "# Load the dataset (it's classification problem where X is normalized)\n",
    "import pandas as pd\n",
    "import numpy as np\n",
    "dataset = pd.read_csv('youngsdata.csv')\n",
    "\n",
    "labels = dataset.columns[1:]\n",
    "dataset.head()\n",
    "np.random.seed(1)\n",
    "dataset = dataset.values\n",
    "dataset = dataset[:,1:]\n",
    "\n",
    "np.random.shuffle(dataset)\n",
    "\n",
    "\n",
    "X = dataset[:,:-1]\n",
    "y = dataset[:,-1]\n",
    "y = y.reshape(-1,1)\n",
    "\n",
    "\n",
    "print(dataset.shape)\n",
    "print(labels)\n",
    "print(X.shape)"
   ]
  },
  {
   "cell_type": "markdown",
   "id": "01d5a09f",
   "metadata": {},
   "source": [
    "a) Split  the  dataset into training (80%) and  testing(20%)datasets using train_test_splitwith random_state = 1, then normalizethe dataset(both X and y)between0 and 1. "
   ]
  },
  {
   "cell_type": "code",
   "execution_count": 25,
   "id": "b2579a39",
   "metadata": {},
   "outputs": [
    {
     "name": "stdout",
     "output_type": "stream",
     "text": [
      "(85, 11)\n",
      "(68, 11)\n"
     ]
    }
   ],
   "source": [
    "#Split Data into training and testing + normaize \n",
    "from sklearn.model_selection import train_test_split\n",
    "#Split data into training and testing\n",
    "X_train, X_test, y_train, y_test = train_test_split(X, y, test_size = 0.2, random_state = 1)\n",
    "\n",
    "print(X_train.shape)\n",
    " #Split training data into testing and validation\n",
    "# X_train, X_vald, y_train, y_vald = train_test_split(X_train, y_train, test_size = 0.2, random_state = 1)\n",
    "\n",
    "print(X_train.shape)"
   ]
  },
  {
   "cell_type": "code",
   "execution_count": 27,
   "id": "917dfaa8",
   "metadata": {},
   "outputs": [],
   "source": [
    "X_train = X_train.astype('float')\n",
    "X_test = X_test.astype('float')\n",
    "\n",
    "y_train = y_train.astype('float')\n",
    "y_test = y_test.astype('float')\n",
    "# y_vlad = y_vald.astype('float')"
   ]
  },
  {
   "cell_type": "code",
   "execution_count": 29,
   "id": "cf9bba6a",
   "metadata": {},
   "outputs": [
    {
     "name": "stdout",
     "output_type": "stream",
     "text": [
      "(68, 11)\n"
     ]
    }
   ],
   "source": [
    "#Normalization of X\n",
    "from sklearn.preprocessing import normalize\n",
    "\n",
    "X_train_normalized = normalize(X_train, norm = 'l2')\n",
    "X_test_normalized = normalize(X_test, norm = 'l2')\n",
    "y_train_normalized = normalize(y_train, norm = 'l2')\n",
    "y_test_normalized = normalize(y_test, norm = 'l2')\n",
    "# y_vlad_normalized = normalize(y_train, norm = 'l2')\n",
    "\n",
    "print(X_train_normalized.shape)\n"
   ]
  },
  {
   "cell_type": "markdown",
   "id": "d0c7fe97",
   "metadata": {},
   "source": [
    "b)Fit  the  data  using  LinearRegression with  5-cross  validation  to  predict  the Young’s Modulus and report the MSE on each fold. Discuss the results and explain why we need to  use  crossvalidation on this  training  dataset  to evaluatethe  performance  of the model?"
   ]
  },
  {
   "cell_type": "code",
   "execution_count": 33,
   "id": "7a8de5c6",
   "metadata": {},
   "outputs": [],
   "source": [
    "#Call the relevant sklearn models\n",
    "from sklearn.model_selection import KFold\n",
    "from sklearn.model_selection import StratifiedKFold\n",
    "from sklearn.model_selection import cross_val_score\n",
    "\n",
    "#Define the cross-validation split\n",
    "cv = StratifiedKFold(n_splits = 5,shuffle = True, random_state = 1)\n",
    "\n"
   ]
  },
  {
   "cell_type": "code",
   "execution_count": 30,
   "id": "2479b2ac",
   "metadata": {},
   "outputs": [
    {
     "data": {
      "text/plain": [
       "LinearRegression()"
      ]
     },
     "execution_count": 30,
     "metadata": {},
     "output_type": "execute_result"
    }
   ],
   "source": [
    "from sklearn.linear_model import LinearRegression\n",
    "model = LinearRegression()\n",
    "model.fit(X_train_normalized, y_train_normalized)"
   ]
  },
  {
   "cell_type": "code",
   "execution_count": 37,
   "id": "295e261c",
   "metadata": {},
   "outputs": [
    {
     "name": "stdout",
     "output_type": "stream",
     "text": [
      "[1. 1. 1. 1. 1.]\n",
      "1.0\n",
      "0.0\n"
     ]
    }
   ],
   "source": [
    "from numpy import mean    \n",
    "from numpy import std \n",
    "\n",
    "scores = cross_val_score(model, X_train_normalized, y_train_normalized, scoring = 'accuracy', cv = cv)\n",
    "print(scores)\n",
    "print(mean(scores))\n",
    "print(std(scores))"
   ]
  },
  {
   "cell_type": "code",
   "execution_count": 31,
   "id": "80b6f441",
   "metadata": {},
   "outputs": [],
   "source": []
  },
  {
   "cell_type": "markdown",
   "id": "1b55a2d2",
   "metadata": {},
   "source": [
    "# Problem 2"
   ]
  },
  {
   "cell_type": "code",
   "execution_count": null,
   "id": "539a49a5",
   "metadata": {},
   "outputs": [],
   "source": [
    "import matplotlib.pyplot as plt\n",
    "import matplotlib.image as mpimg\n",
    "import os\n",
    "# You need to change the line below based on your directory of where the data\n",
    "data_dir = R\"C:\\Users\\Mahir Jalanko\\OneDrive - McMaster University\\Desktop\\Course Taught\\MATLS 4ML3\\Assignments\\Assignment 4\\GarbageDataset\\Garbage classification\\Garbage classification\"\n"
   ]
  },
  {
   "cell_type": "code",
   "execution_count": null,
   "id": "fc984f01",
   "metadata": {},
   "outputs": [],
   "source": [
    "# this code will look into the name of files in that directory (the name of classes)\n",
    "labels = os.listdir(data_dir)\n",
    "labels"
   ]
  },
  {
   "cell_type": "code",
   "execution_count": null,
   "id": "c1cd5708",
   "metadata": {},
   "outputs": [],
   "source": [
    "# this code will show you how many images in each class\n",
    "for label in labels:\n",
    "    directory = os.path.join(data_dir, label)\n",
    "    print(\"Images of label \\\"\" + label + \"\\\":\\t\", len(os.listdir(directory)))"
   ]
  },
  {
   "cell_type": "code",
   "execution_count": null,
   "id": "cdd5ed44",
   "metadata": {},
   "outputs": [],
   "source": [
    "# This code will store all the images in X and all the labels in y \n",
    "X = np.zeros((2527,384,512,3))\n",
    "y = np.zeros((2527,1))\n",
    "counter = 0\n",
    "for L in range(len(labels)):\n",
    "    directory = os.path.join(data_dir, labels[L])\n",
    "    for j in range(len(os.listdir(directory))):\n",
    "        X[counter][:][:][:] = mpimg.imread(os.path.join(directory, os.listdir(directory)[j]))\n",
    "        y[counter] = L\n",
    "        counter = counter + 1\n",
    "\n",
    "X = X.astype('int')\n",
    "y = y.astype('int')\n"
   ]
  },
  {
   "cell_type": "code",
   "execution_count": null,
   "id": "419fa45e",
   "metadata": {},
   "outputs": [],
   "source": [
    "# Use this code instead of the code in the cell above starting from part 2 and after \n",
    "# This code will store all resized images in X and all the labels in y\n",
    "import cv2\n",
    "X = np.zeros((2527,96,128,3))\n",
    "y = np.zeros((2527,1))\n",
    "counter = 0\n",
    "for L in range(len(labels)):\n",
    "    directory = os.path.join(data_dir, labels[L])\n",
    "    for j in range(len(os.listdir(directory))):\n",
    "        img = cv2.imread(os.path.join(directory, os.listdir(directory)[j]))\n",
    "        res = cv2.resize(img,dsize=(128,96), interpolation=cv2.INTER_CUBIC)\n",
    "        X[counter][:][:][:] = res\n",
    "        y[counter] = L\n",
    "        counter = counter + 1\n",
    "\n",
    "X = X.astype('int')\n",
    "y = y.astype('int')"
   ]
  }
 ],
 "metadata": {
  "kernelspec": {
   "display_name": "Python 3",
   "language": "python",
   "name": "python3"
  },
  "language_info": {
   "codemirror_mode": {
    "name": "ipython",
    "version": 3
   },
   "file_extension": ".py",
   "mimetype": "text/x-python",
   "name": "python",
   "nbconvert_exporter": "python",
   "pygments_lexer": "ipython3",
   "version": "3.8.8"
  }
 },
 "nbformat": 4,
 "nbformat_minor": 5
}
